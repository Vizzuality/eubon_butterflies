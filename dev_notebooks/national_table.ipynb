{
 "cells": [
  {
   "cell_type": "markdown",
   "metadata": {
    "deletable": true,
    "editable": true
   },
   "source": [
    "## Code development to create a national table\n",
    "\n",
    "https://mapbox.github.io/rasterio/api/rasterio.mask.html?highlight=mask#module-rasterio.mask\n",
    "\n",
    "http://thematicmapping.org/downloads/world_borders.php\n",
    "\n",
    "http://www.gadm.org\n",
    "\n",
    "https://github.com/mapbox/rasterio-cookbook/blob/master/recipies/mask_shp.py\n",
    "\n",
    "\n",
    "http://gis.stackexchange.com/questions/151339/rasterize-a-shapefile-with-geopandas-or-fiona-python\n",
    "\n",
    "\n",
    "## Necessary steps (note, this will also be needed in HELIX project...)\n",
    "\n",
    "* Extract single feature (country shape)\n",
    "* Reproject feature to match raster\n",
    "* Convert vector to raster\n",
    "* Mask original raster by converted raster\n",
    "* Calculate statistics over mask\n",
    "* Add to dictionary.\n",
    "* Repeat for every feature"
   ]
  },
  {
   "cell_type": "code",
   "execution_count": 1,
   "metadata": {
    "collapsed": false,
    "deletable": true,
    "editable": true
   },
   "outputs": [],
   "source": [
    "import fiona\n",
    "import rasterio\n",
    "from rasterio.mask import mask\n",
    "from rasterio.plot import show\n",
    "import geopandas as gpd\n",
    "import numpy as np\n",
    "import matplotlib.pyplot as plt\n",
    "%matplotlib inline"
   ]
  },
  {
   "cell_type": "markdown",
   "metadata": {
    "collapsed": true,
    "deletable": true,
    "editable": true
   },
   "source": [
    "## Read shape files using Geopandas and extract a specific country"
   ]
  },
  {
   "cell_type": "code",
   "execution_count": 2,
   "metadata": {
    "collapsed": false,
    "deletable": true,
    "editable": true
   },
   "outputs": [],
   "source": [
    "nations = gpd.read_file('/Users/Ben/Downloads/TM_WORLD_BORDERS-0/TM_WORLD_BORDERS-0.3.shp')"
   ]
  },
  {
   "cell_type": "code",
   "execution_count": 3,
   "metadata": {
    "collapsed": false,
    "deletable": true,
    "editable": true
   },
   "outputs": [
    {
     "data": {
      "text/html": [
       "<div>\n",
       "<table border=\"1\" class=\"dataframe\">\n",
       "  <thead>\n",
       "    <tr style=\"text-align: right;\">\n",
       "      <th></th>\n",
       "      <th>AREA</th>\n",
       "      <th>FIPS</th>\n",
       "      <th>ISO2</th>\n",
       "      <th>ISO3</th>\n",
       "      <th>LAT</th>\n",
       "      <th>LON</th>\n",
       "      <th>NAME</th>\n",
       "      <th>POP2005</th>\n",
       "      <th>REGION</th>\n",
       "      <th>SUBREGION</th>\n",
       "      <th>UN</th>\n",
       "      <th>geometry</th>\n",
       "    </tr>\n",
       "  </thead>\n",
       "  <tbody>\n",
       "    <tr>\n",
       "      <th>0</th>\n",
       "      <td>44</td>\n",
       "      <td>AC</td>\n",
       "      <td>AG</td>\n",
       "      <td>ATG</td>\n",
       "      <td>17.078</td>\n",
       "      <td>-61.783</td>\n",
       "      <td>Antigua and Barbuda</td>\n",
       "      <td>83039</td>\n",
       "      <td>19</td>\n",
       "      <td>29</td>\n",
       "      <td>28</td>\n",
       "      <td>(POLYGON ((-61.686668 17.02444100000014, -61.7...</td>\n",
       "    </tr>\n",
       "    <tr>\n",
       "      <th>1</th>\n",
       "      <td>238174</td>\n",
       "      <td>AG</td>\n",
       "      <td>DZ</td>\n",
       "      <td>DZA</td>\n",
       "      <td>28.163</td>\n",
       "      <td>2.632</td>\n",
       "      <td>Algeria</td>\n",
       "      <td>32854159</td>\n",
       "      <td>2</td>\n",
       "      <td>15</td>\n",
       "      <td>12</td>\n",
       "      <td>POLYGON ((2.96361 36.802216, 2.981389 36.80693...</td>\n",
       "    </tr>\n",
       "    <tr>\n",
       "      <th>2</th>\n",
       "      <td>8260</td>\n",
       "      <td>AJ</td>\n",
       "      <td>AZ</td>\n",
       "      <td>AZE</td>\n",
       "      <td>40.430</td>\n",
       "      <td>47.395</td>\n",
       "      <td>Azerbaijan</td>\n",
       "      <td>8352021</td>\n",
       "      <td>142</td>\n",
       "      <td>145</td>\n",
       "      <td>31</td>\n",
       "      <td>(POLYGON ((45.08332100000001 39.76804400000015...</td>\n",
       "    </tr>\n",
       "    <tr>\n",
       "      <th>3</th>\n",
       "      <td>2740</td>\n",
       "      <td>AL</td>\n",
       "      <td>AL</td>\n",
       "      <td>ALB</td>\n",
       "      <td>41.143</td>\n",
       "      <td>20.068</td>\n",
       "      <td>Albania</td>\n",
       "      <td>3153731</td>\n",
       "      <td>150</td>\n",
       "      <td>39</td>\n",
       "      <td>8</td>\n",
       "      <td>POLYGON ((19.436214 41.021065, 19.450554 41.05...</td>\n",
       "    </tr>\n",
       "    <tr>\n",
       "      <th>4</th>\n",
       "      <td>2820</td>\n",
       "      <td>AM</td>\n",
       "      <td>AM</td>\n",
       "      <td>ARM</td>\n",
       "      <td>40.534</td>\n",
       "      <td>44.563</td>\n",
       "      <td>Armenia</td>\n",
       "      <td>3017661</td>\n",
       "      <td>142</td>\n",
       "      <td>145</td>\n",
       "      <td>51</td>\n",
       "      <td>(POLYGON ((45.57305100000013 40.63248800000008...</td>\n",
       "    </tr>\n",
       "  </tbody>\n",
       "</table>\n",
       "</div>"
      ],
      "text/plain": [
       "     AREA FIPS ISO2 ISO3     LAT     LON                 NAME   POP2005  \\\n",
       "0      44   AC   AG  ATG  17.078 -61.783  Antigua and Barbuda     83039   \n",
       "1  238174   AG   DZ  DZA  28.163   2.632              Algeria  32854159   \n",
       "2    8260   AJ   AZ  AZE  40.430  47.395           Azerbaijan   8352021   \n",
       "3    2740   AL   AL  ALB  41.143  20.068              Albania   3153731   \n",
       "4    2820   AM   AM  ARM  40.534  44.563              Armenia   3017661   \n",
       "\n",
       "   REGION  SUBREGION  UN                                           geometry  \n",
       "0      19         29  28  (POLYGON ((-61.686668 17.02444100000014, -61.7...  \n",
       "1       2         15  12  POLYGON ((2.96361 36.802216, 2.981389 36.80693...  \n",
       "2     142        145  31  (POLYGON ((45.08332100000001 39.76804400000015...  \n",
       "3     150         39   8  POLYGON ((19.436214 41.021065, 19.450554 41.05...  \n",
       "4     142        145  51  (POLYGON ((45.57305100000013 40.63248800000008...  "
      ]
     },
     "execution_count": 3,
     "metadata": {},
     "output_type": "execute_result"
    }
   ],
   "source": [
    "nations.head()"
   ]
  },
  {
   "cell_type": "code",
   "execution_count": 4,
   "metadata": {
    "collapsed": false,
    "deletable": true,
    "editable": true
   },
   "outputs": [
    {
     "data": {
      "text/html": [
       "<div>\n",
       "<table border=\"1\" class=\"dataframe\">\n",
       "  <thead>\n",
       "    <tr style=\"text-align: right;\">\n",
       "      <th></th>\n",
       "      <th>AREA</th>\n",
       "      <th>FIPS</th>\n",
       "      <th>ISO2</th>\n",
       "      <th>ISO3</th>\n",
       "      <th>LAT</th>\n",
       "      <th>LON</th>\n",
       "      <th>NAME</th>\n",
       "      <th>POP2005</th>\n",
       "      <th>REGION</th>\n",
       "      <th>SUBREGION</th>\n",
       "      <th>UN</th>\n",
       "      <th>geometry</th>\n",
       "    </tr>\n",
       "  </thead>\n",
       "  <tbody>\n",
       "    <tr>\n",
       "      <th>206</th>\n",
       "      <td>24193</td>\n",
       "      <td>UK</td>\n",
       "      <td>GB</td>\n",
       "      <td>GBR</td>\n",
       "      <td>53.0</td>\n",
       "      <td>-1.6</td>\n",
       "      <td>United Kingdom</td>\n",
       "      <td>60244834</td>\n",
       "      <td>150</td>\n",
       "      <td>154</td>\n",
       "      <td>826</td>\n",
       "      <td>(POLYGON ((-6.290832999999964 49.912216, -6.31...</td>\n",
       "    </tr>\n",
       "  </tbody>\n",
       "</table>\n",
       "</div>"
      ],
      "text/plain": [
       "      AREA FIPS ISO2 ISO3   LAT  LON            NAME   POP2005  REGION  \\\n",
       "206  24193   UK   GB  GBR  53.0 -1.6  United Kingdom  60244834     150   \n",
       "\n",
       "     SUBREGION   UN                                           geometry  \n",
       "206        154  826  (POLYGON ((-6.290832999999964 49.912216, -6.31...  "
      ]
     },
     "execution_count": 4,
     "metadata": {},
     "output_type": "execute_result"
    }
   ],
   "source": [
    "nations[nations.ISO3 == \"GBR\"]"
   ]
  },
  {
   "cell_type": "code",
   "execution_count": 100,
   "metadata": {
    "collapsed": false,
    "deletable": true,
    "editable": true
   },
   "outputs": [],
   "source": [
    "uk = nations[nations.ISO3 == \"GBR\"]#.geometry"
   ]
  },
  {
   "cell_type": "code",
   "execution_count": 101,
   "metadata": {
    "collapsed": false
   },
   "outputs": [
    {
     "data": {
      "text/plain": [
       "<matplotlib.axes._subplots.AxesSubplot at 0x120e005c0>"
      ]
     },
     "execution_count": 101,
     "metadata": {},
     "output_type": "execute_result"
    },
    {
     "data": {
      "image/png": "[encoded data removed]",
      "text/plain": [
       "<matplotlib.figure.Figure at 0x120f9a3c8>"
      ]
     },
     "metadata": {},
     "output_type": "display_data"
    }
   ],
   "source": [
    "uk.plot()"
   ]
  },
  {
   "cell_type": "markdown",
   "metadata": {
    "deletable": true,
    "editable": true
   },
   "source": [
    "### Extract statistics for vector area of a Raster\n",
    "\n",
    "* Identify coordinate system of raster\n",
    "* Extract geometry of concern (for script, can read country codes from a YAML file and iterate for each)\n",
    "* Use (reprojected) vector, with raster with rasterstats zonal_stats"
   ]
  },
  {
   "cell_type": "code",
   "execution_count": 19,
   "metadata": {
    "collapsed": false,
    "deletable": true,
    "editable": true
   },
   "outputs": [],
   "source": [
    "from rasterstats import zonal_stats\n",
    "import rasterio\n",
    "import pyproj"
   ]
  },
  {
   "cell_type": "code",
   "execution_count": 24,
   "metadata": {
    "collapsed": false,
    "deletable": true,
    "editable": true
   },
   "outputs": [
    {
     "data": {
      "text/plain": [
       "'Lambert Azimuthal Equal Area'"
      ]
     },
     "execution_count": 24,
     "metadata": {},
     "output_type": "execute_result"
    }
   ],
   "source": [
    "pyproj.pj_list[tif_projection]"
   ]
  },
  {
   "cell_type": "code",
   "execution_count": 22,
   "metadata": {
    "collapsed": false
   },
   "outputs": [
    {
     "ename": "NameError",
     "evalue": "name 'tif_projection' is not defined",
     "output_type": "error",
     "traceback": [
      "\u001b[0;31m---------------------------------------------------------------------------\u001b[0m",
      "\u001b[0;31mNameError\u001b[0m                                 Traceback (most recent call last)",
      "\u001b[0;32m<ipython-input-22-3c4d20acfabf>\u001b[0m in \u001b[0;36m<module>\u001b[0;34m()\u001b[0m\n\u001b[0;32m----> 1\u001b[0;31m \u001b[0mtif_projection\u001b[0m\u001b[0;34m\u001b[0m\u001b[0m\n\u001b[0m",
      "\u001b[0;31mNameError\u001b[0m: name 'tif_projection' is not defined"
     ]
    }
   ],
   "source": [
    "tif_projection"
   ]
  },
  {
   "cell_type": "code",
   "execution_count": 14,
   "metadata": {
    "collapsed": false,
    "deletable": true,
    "editable": true
   },
   "outputs": [],
   "source": [
    "#pyproj.pj_ellps"
   ]
  },
  {
   "cell_type": "code",
   "execution_count": 63,
   "metadata": {
    "collapsed": false,
    "deletable": true,
    "editable": true
   },
   "outputs": [
    {
     "data": {
      "text/html": [
       "<div>\n",
       "<table border=\"1\" class=\"dataframe\">\n",
       "  <thead>\n",
       "    <tr style=\"text-align: right;\">\n",
       "      <th></th>\n",
       "      <th>AREA</th>\n",
       "      <th>FIPS</th>\n",
       "      <th>ISO2</th>\n",
       "      <th>ISO3</th>\n",
       "      <th>LAT</th>\n",
       "      <th>LON</th>\n",
       "      <th>NAME</th>\n",
       "      <th>POP2005</th>\n",
       "      <th>REGION</th>\n",
       "      <th>SUBREGION</th>\n",
       "      <th>UN</th>\n",
       "      <th>geometry</th>\n",
       "    </tr>\n",
       "  </thead>\n",
       "  <tbody>\n",
       "    <tr>\n",
       "      <th>154</th>\n",
       "      <td>30625</td>\n",
       "      <td>NO</td>\n",
       "      <td>NO</td>\n",
       "      <td>NOR</td>\n",
       "      <td>61.152</td>\n",
       "      <td>8.74</td>\n",
       "      <td>Norway</td>\n",
       "      <td>4638836</td>\n",
       "      <td>150</td>\n",
       "      <td>154</td>\n",
       "      <td>578</td>\n",
       "      <td>(POLYGON ((973334.2128949793 8053884.146248724...</td>\n",
       "    </tr>\n",
       "  </tbody>\n",
       "</table>\n",
       "</div>"
      ],
      "text/plain": [
       "      AREA FIPS ISO2 ISO3     LAT   LON    NAME  POP2005  REGION  SUBREGION  \\\n",
       "154  30625   NO   NO  NOR  61.152  8.74  Norway  4638836     150        154   \n",
       "\n",
       "      UN                                           geometry  \n",
       "154  578  (POLYGON ((973334.2128949793 8053884.146248724...  "
      ]
     },
     "execution_count": 63,
     "metadata": {},
     "output_type": "execute_result"
    }
   ],
   "source": [
    "uk.to_crs(epsg='3857')"
   ]
  },
  {
   "cell_type": "code",
   "execution_count": 101,
   "metadata": {
    "collapsed": false,
    "deletable": true,
    "editable": true
   },
   "outputs": [
    {
     "data": {
      "text/plain": [
       "CRS({'y_0': 3210000, 'lon_0': 10, 'lat_0': 52, 'units': 'm', 'proj': 'laea', 'towgs84': '0,0,0,0,0,0,0', 'no_defs': True, 'ellps': 'GRS80', 'x_0': 4321000, 'wktext': True})"
      ]
     },
     "execution_count": 101,
     "metadata": {},
     "output_type": "execute_result"
    }
   ],
   "source": [
    "inData.crs"
   ]
  },
  {
   "cell_type": "code",
   "execution_count": 94,
   "metadata": {
    "collapsed": false,
    "deletable": true,
    "editable": true
   },
   "outputs": [
    {
     "data": {
      "text/plain": [
       "{'ellps': 'GRS80',\n",
       " 'lat_0': 52,\n",
       " 'lon_0': 10,\n",
       " 'no_defs': True,\n",
       " 'proj': 'laea',\n",
       " 'towgs84': '0,0,0,0,0,0,0',\n",
       " 'units': 'm',\n",
       " 'x_0': 4321000,\n",
       " 'y_0': 3210000}"
      ]
     },
     "execution_count": 94,
     "metadata": {},
     "output_type": "execute_result"
    }
   ],
   "source": [
    "# try to get the EPSG string back from this data automatically ='EPSG:3857'\n",
    "inData.crs.data"
   ]
  },
  {
   "cell_type": "code",
   "execution_count": null,
   "metadata": {
    "collapsed": true,
    "deletable": true,
    "editable": true
   },
   "outputs": [],
   "source": []
  },
  {
   "cell_type": "code",
   "execution_count": 15,
   "metadata": {
    "collapsed": true,
    "deletable": true,
    "editable": true
   },
   "outputs": [],
   "source": [
    "# Grab raster metadata\n",
    "input_raster = \"/Users/Ben/Downloads/eurolst_clim/eurolst_clim.bio01.tif\"\n",
    "with rasterio.open(input_raster, blockxsize=256, blockysize=256) as inData:\n",
    "    profile = inData.profile\n",
    "    meta = inData.meta"
   ]
  },
  {
   "cell_type": "code",
   "execution_count": 23,
   "metadata": {
    "collapsed": false,
    "deletable": true,
    "editable": true
   },
   "outputs": [],
   "source": [
    "tif_projection = profile['crs']['proj']"
   ]
  },
  {
   "cell_type": "markdown",
   "metadata": {
    "deletable": true,
    "editable": true
   },
   "source": [
    "LAEA can be identified on this site http://spatialreference.org/ref/?search=laea&srtext=Search as being EPSG:3035"
   ]
  },
  {
   "cell_type": "code",
   "execution_count": 64,
   "metadata": {
    "collapsed": false,
    "deletable": true,
    "editable": true
   },
   "outputs": [
    {
     "ename": "ValueError",
     "evalue": "invalid literal for int() with base 10: 'laea'",
     "output_type": "error",
     "traceback": [
      "\u001b[0;31m---------------------------------------------------------------------------\u001b[0m",
      "\u001b[0;31mValueError\u001b[0m                                Traceback (most recent call last)",
      "\u001b[0;32m<ipython-input-64-c4c8cc633041>\u001b[0m in \u001b[0;36m<module>\u001b[0;34m()\u001b[0m\n\u001b[1;32m      1\u001b[0m \u001b[0;31m#uk.to_crs(epsg=\"3035\").plot()  # reprojection of vector looks good\u001b[0m\u001b[0;34m\u001b[0m\u001b[0;34m\u001b[0m\u001b[0m\n\u001b[0;32m----> 2\u001b[0;31m \u001b[0muk\u001b[0m\u001b[0;34m.\u001b[0m\u001b[0mto_crs\u001b[0m\u001b[0;34m(\u001b[0m\u001b[0mepsg\u001b[0m\u001b[0;34m=\u001b[0m\u001b[0;34m\"laea\"\u001b[0m\u001b[0;34m)\u001b[0m\u001b[0;34m.\u001b[0m\u001b[0mplot\u001b[0m\u001b[0;34m(\u001b[0m\u001b[0;34m)\u001b[0m\u001b[0;34m\u001b[0m\u001b[0m\n\u001b[0m",
      "\u001b[0;32m/Users/Ben/anaconda/lib/python3.5/site-packages/geopandas/geoseries.py\u001b[0m in \u001b[0;36mto_crs\u001b[0;34m(self, crs, epsg)\u001b[0m\n\u001b[1;32m    270\u001b[0m         \u001b[0;32mif\u001b[0m \u001b[0mcrs\u001b[0m \u001b[0;32mis\u001b[0m \u001b[0;32mNone\u001b[0m\u001b[0;34m:\u001b[0m\u001b[0;34m\u001b[0m\u001b[0m\n\u001b[1;32m    271\u001b[0m             \u001b[0;32mtry\u001b[0m\u001b[0;34m:\u001b[0m\u001b[0;34m\u001b[0m\u001b[0m\n\u001b[0;32m--> 272\u001b[0;31m                 \u001b[0mcrs\u001b[0m \u001b[0;34m=\u001b[0m \u001b[0mfrom_epsg\u001b[0m\u001b[0;34m(\u001b[0m\u001b[0mepsg\u001b[0m\u001b[0;34m)\u001b[0m\u001b[0;34m\u001b[0m\u001b[0m\n\u001b[0m\u001b[1;32m    273\u001b[0m             \u001b[0;32mexcept\u001b[0m \u001b[0mTypeError\u001b[0m\u001b[0;34m:\u001b[0m\u001b[0;34m\u001b[0m\u001b[0m\n\u001b[1;32m    274\u001b[0m                 \u001b[0;32mraise\u001b[0m \u001b[0mTypeError\u001b[0m\u001b[0;34m(\u001b[0m\u001b[0;34m'Must set either crs or epsg for output.'\u001b[0m\u001b[0;34m)\u001b[0m\u001b[0;34m\u001b[0m\u001b[0m\n",
      "\u001b[0;32m/Users/Ben/anaconda/lib/python3.5/site-packages/fiona/crs.py\u001b[0m in \u001b[0;36mfrom_epsg\u001b[0;34m(code)\u001b[0m\n\u001b[1;32m     63\u001b[0m     \u001b[0mNote\u001b[0m\u001b[0;34m:\u001b[0m \u001b[0mthe\u001b[0m \u001b[0minput\u001b[0m \u001b[0mcode\u001b[0m \u001b[0;32mis\u001b[0m \u001b[0;32mnot\u001b[0m \u001b[0mvalidated\u001b[0m \u001b[0magainst\u001b[0m \u001b[0man\u001b[0m \u001b[0mEPSG\u001b[0m \u001b[0mdatabase\u001b[0m\u001b[0;34m.\u001b[0m\u001b[0;34m\u001b[0m\u001b[0m\n\u001b[1;32m     64\u001b[0m     \"\"\"\n\u001b[0;32m---> 65\u001b[0;31m     \u001b[0;32mif\u001b[0m \u001b[0mint\u001b[0m\u001b[0;34m(\u001b[0m\u001b[0mcode\u001b[0m\u001b[0;34m)\u001b[0m \u001b[0;34m<=\u001b[0m \u001b[0;36m0\u001b[0m\u001b[0;34m:\u001b[0m\u001b[0;34m\u001b[0m\u001b[0m\n\u001b[0m\u001b[1;32m     66\u001b[0m         \u001b[0;32mraise\u001b[0m \u001b[0mValueError\u001b[0m\u001b[0;34m(\u001b[0m\u001b[0;34m\"EPSG codes are positive integers\"\u001b[0m\u001b[0;34m)\u001b[0m\u001b[0;34m\u001b[0m\u001b[0m\n\u001b[1;32m     67\u001b[0m     \u001b[0;32mreturn\u001b[0m \u001b[0;34m{\u001b[0m\u001b[0;34m'init'\u001b[0m\u001b[0;34m:\u001b[0m \u001b[0;34m\"epsg:%s\"\u001b[0m \u001b[0;34m%\u001b[0m \u001b[0mcode\u001b[0m\u001b[0;34m,\u001b[0m \u001b[0;34m'no_defs'\u001b[0m\u001b[0;34m:\u001b[0m \u001b[0;32mTrue\u001b[0m\u001b[0;34m}\u001b[0m\u001b[0;34m\u001b[0m\u001b[0m\n",
      "\u001b[0;31mValueError\u001b[0m: invalid literal for int() with base 10: 'laea'"
     ]
    }
   ],
   "source": [
    "#uk.to_crs(epsg=\"3035\").plot()  # reprojection of vector looks good\n",
    "uk.to_crs(epsg=\"laea\").plot() "
   ]
  },
  {
   "cell_type": "code",
   "execution_count": 64,
   "metadata": {
    "collapsed": false,
    "deletable": true,
    "editable": true
   },
   "outputs": [
    {
     "data": {
      "text/plain": [
       "[{'count': 5188540,\n",
       "  'max': 80.0,\n",
       "  'mean': 0.9429242137479907,\n",
       "  'min': -84.0,\n",
       "  'mini_raster_affine': Affine(250.0, 0.0, 4029250.0,\n",
       "       0.0, -250.0, 5414500.0),\n",
       "  'mini_raster_array': masked_array(data =\n",
       "   [[-- -- -- ..., -- -- --]\n",
       "   [-- -- -- ..., -- -- --]\n",
       "   [-- -- -- ..., -- -- --]\n",
       "   ..., \n",
       "   [-- -- -- ..., -- -- --]\n",
       "   [-- -- -- ..., -- -- --]\n",
       "   [-- -- -- ..., -- -- --]],\n",
       "               mask =\n",
       "   [[ True  True  True ...,  True  True  True]\n",
       "   [ True  True  True ...,  True  True  True]\n",
       "   [ True  True  True ...,  True  True  True]\n",
       "   ..., \n",
       "   [ True  True  True ...,  True  True  True]\n",
       "   [ True  True  True ...,  True  True  True]\n",
       "   [ True  True  True ...,  True  True  True]],\n",
       "         fill_value = 999999),\n",
       "  'mini_raster_nodata': -32768.0}]"
      ]
     },
     "execution_count": 64,
     "metadata": {},
     "output_type": "execute_result"
    }
   ],
   "source": [
    "output = zonal_stats(uk.to_crs(epsg=\"3035\"), input_raster, band=1, all_touched=True, raster_out=True)\n",
    "output"
   ]
  },
  {
   "cell_type": "code",
   "execution_count": 121,
   "metadata": {
    "collapsed": false
   },
   "outputs": [
    {
     "data": {
      "text/plain": [
       "0.94"
      ]
     },
     "execution_count": 121,
     "metadata": {},
     "output_type": "execute_result"
    }
   ],
   "source": [
    "float('{0:4.2f}'.format(output[0]['mean']))"
   ]
  },
  {
   "cell_type": "code",
   "execution_count": 126,
   "metadata": {
    "collapsed": false
   },
   "outputs": [
    {
     "data": {
      "text/plain": [
       "-8922229.13"
      ]
     },
     "execution_count": 126,
     "metadata": {},
     "output_type": "execute_result"
    }
   ],
   "source": [
    "float('{0:4.2f}'.format(-8922229.13333))"
   ]
  },
  {
   "cell_type": "code",
   "execution_count": 1,
   "metadata": {
    "collapsed": true,
    "deletable": true,
    "editable": true
   },
   "outputs": [],
   "source": [
    "from pprint import pprint\n",
    "pprint(d)"
   ]
  },
  {
   "cell_type": "code",
   "execution_count": 65,
   "metadata": {
    "collapsed": false,
    "deletable": true,
    "editable": true
   },
   "outputs": [
    {
     "data": {
      "text/plain": [
       "<matplotlib.image.AxesImage at 0x120fbb198>"
      ]
     },
     "execution_count": 65,
     "metadata": {},
     "output_type": "execute_result"
    },
    {
     "data": {
      "image/png": "[encoded data removed]",
      "text/plain": [
       "<matplotlib.figure.Figure at 0x120de7f98>"
      ]
     },
     "metadata": {},
     "output_type": "display_data"
    }
   ],
   "source": [
    "plt.imshow(output[0]['mini_raster_array'])  # Test that we subsetted the raster where we were expecting"
   ]
  },
  {
   "cell_type": "code",
   "execution_count": 55,
   "metadata": {
    "collapsed": false,
    "deletable": true,
    "editable": true
   },
   "outputs": [
    {
     "data": {
      "text/plain": [
       "{'count': 5188540,\n",
       " 'max': 80.0,\n",
       " 'mean': 0.9429242137479907,\n",
       " 'min': -84.0,\n",
       " 'mini_raster_affine': Affine(250.0, 0.0, 4029250.0,\n",
       "       0.0, -250.0, 5414500.0),\n",
       " 'mini_raster_array': masked_array(data =\n",
       "  [[-- -- -- ..., -- -- --]\n",
       "  [-- -- -- ..., -- -- --]\n",
       "  [-- -- -- ..., -- -- --]\n",
       "  ..., \n",
       "  [-- -- -- ..., -- -- --]\n",
       "  [-- -- -- ..., -- -- --]\n",
       "  [-- -- -- ..., -- -- --]],\n",
       "              mask =\n",
       "  [[ True  True  True ...,  True  True  True]\n",
       "  [ True  True  True ...,  True  True  True]\n",
       "  [ True  True  True ...,  True  True  True]\n",
       "  ..., \n",
       "  [ True  True  True ...,  True  True  True]\n",
       "  [ True  True  True ...,  True  True  True]\n",
       "  [ True  True  True ...,  True  True  True]],\n",
       "        fill_value = 999999),\n",
       " 'mini_raster_nodata': -32768.0}"
      ]
     },
     "execution_count": 55,
     "metadata": {},
     "output_type": "execute_result"
    }
   ],
   "source": [
    "output[0]"
   ]
  },
  {
   "cell_type": "markdown",
   "metadata": {
    "deletable": true,
    "editable": true
   },
   "source": [
    "### Exploring the Raster in more detail"
   ]
  },
  {
   "cell_type": "code",
   "execution_count": 46,
   "metadata": {
    "collapsed": false,
    "deletable": true,
    "editable": true
   },
   "outputs": [
    {
     "data": {
      "image/png": "[encoded data removed]",
      "text/plain": [
       "<matplotlib.figure.Figure at 0x122148fd0>"
      ]
     },
     "metadata": {},
     "output_type": "display_data"
    }
   ],
   "source": [
    "with rasterio.open(\"/Users/Ben/Downloads/eurolst_clim/eurolst_clim.bio01.tif\", blockxsize=256, blockysize=256) as inData:\n",
    "    window = (6000, 12000), (6000, 12000)\n",
    "    window2 = (6000, 8000), (6000, 8000)\n",
    "    profile = inData.profile\n",
    "    cmap = plt.get_cmap('jet')\n",
    "    meta = inData.meta\n",
    "    dslice = inData.read(1, window=window, masked=False)\n",
    "    show(inData.read(1, window=window, masked=True), cmap=cmap, interpolation='none')"
   ]
  },
  {
   "cell_type": "code",
   "execution_count": 58,
   "metadata": {
    "collapsed": false,
    "deletable": true,
    "editable": true
   },
   "outputs": [
    {
     "data": {
      "text/plain": [
       "'laea'"
      ]
     },
     "execution_count": 58,
     "metadata": {},
     "output_type": "execute_result"
    }
   ],
   "source": [
    "profile['crs']['proj']"
   ]
  },
  {
   "cell_type": "code",
   "execution_count": 44,
   "metadata": {
    "collapsed": false,
    "deletable": true,
    "editable": true
   },
   "outputs": [
    {
     "data": {
      "text/plain": [
       "Affine(250.0, 0.0, 2168000.0,\n",
       "       0.0, -250.0, 5447750.0)"
      ]
     },
     "execution_count": 44,
     "metadata": {},
     "output_type": "execute_result"
    }
   ],
   "source": [
    "profile['transform']"
   ]
  }
 ],
 "metadata": {
  "anaconda-cloud": {},
  "kernelspec": {
   "display_name": "Python [conda root]",
   "language": "python",
   "name": "conda-root-py"
  },
  "language_info": {
   "codemirror_mode": {
    "name": "ipython",
    "version": 3
   },
   "file_extension": ".py",
   "mimetype": "text/x-python",
   "name": "python",
   "nbconvert_exporter": "python",
   "pygments_lexer": "ipython3",
   "version": "3.5.3"
  }
 },
 "nbformat": 4,
 "nbformat_minor": 2
}
