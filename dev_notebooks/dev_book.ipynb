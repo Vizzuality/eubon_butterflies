{
 "cells": [
  {
   "cell_type": "markdown",
   "metadata": {
    "deletable": true,
    "editable": true
   },
   "source": [
    "## Required IDs\n",
    "\n",
    "occurrenceID, nameComplete, decimalLongitude and decimalLatitude\n",
    "\n",
    "\n",
    "Data from GBIF database http://www.gbif.org/occurrence/download/0060414-160910150852091"
   ]
  },
  {
   "cell_type": "code",
   "execution_count": 2,
   "metadata": {
    "collapsed": false,
    "deletable": true,
    "editable": true
   },
   "outputs": [],
   "source": [
    "import pandas as pd\n",
    "import numpy as np\n",
    "import os\n",
    "import seaborn as sns\n",
    "from shapely import geometry"
   ]
  },
  {
   "cell_type": "code",
   "execution_count": 3,
   "metadata": {
    "collapsed": true,
    "deletable": true,
    "editable": true
   },
   "outputs": [],
   "source": [
    "import matplotlib.pyplot as plt\n",
    "%matplotlib notebook"
   ]
  },
  {
   "cell_type": "code",
   "execution_count": 4,
   "metadata": {
    "collapsed": false,
    "deletable": true,
    "editable": true
   },
   "outputs": [
    {
     "ename": "NameError",
     "evalue": "name 'fname' is not defined",
     "output_type": "error",
     "traceback": [
      "\u001b[0;31m---------------------------------------------------------------------------\u001b[0m",
      "\u001b[0;31mNameError\u001b[0m                                 Traceback (most recent call last)",
      "\u001b[0;32m<ipython-input-4-d640b4178989>\u001b[0m in \u001b[0;36m<module>\u001b[0;34m()\u001b[0m\n\u001b[0;32m----> 1\u001b[0;31m \u001b[0mos\u001b[0m\u001b[0;34m.\u001b[0m\u001b[0mpath\u001b[0m\u001b[0;34m.\u001b[0m\u001b[0misfile\u001b[0m\u001b[0;34m(\u001b[0m\u001b[0mfname\u001b[0m\u001b[0;34m)\u001b[0m\u001b[0;34m\u001b[0m\u001b[0m\n\u001b[0m",
      "\u001b[0;31mNameError\u001b[0m: name 'fname' is not defined"
     ]
    }
   ],
   "source": [
    "os.path.isfile(fname)"
   ]
  },
  {
   "cell_type": "code",
   "execution_count": null,
   "metadata": {
    "collapsed": true,
    "deletable": true,
    "editable": true
   },
   "outputs": [],
   "source": [
    "fname = '0060414-160910150852091.csv'"
   ]
  },
  {
   "cell_type": "code",
   "execution_count": null,
   "metadata": {
    "collapsed": false,
    "deletable": true,
    "editable": true
   },
   "outputs": [],
   "source": [
    "f = pd.read_csv('0060414-160910150852091.csv', sep='\t')"
   ]
  },
  {
   "cell_type": "code",
   "execution_count": null,
   "metadata": {
    "collapsed": false,
    "deletable": true,
    "editable": true
   },
   "outputs": [],
   "source": [
    "f"
   ]
  },
  {
   "cell_type": "code",
   "execution_count": null,
   "metadata": {
    "collapsed": false,
    "deletable": true,
    "editable": true
   },
   "outputs": [],
   "source": [
    "for key in f:\n",
    "    print(key)"
   ]
  },
  {
   "cell_type": "code",
   "execution_count": null,
   "metadata": {
    "collapsed": false,
    "deletable": true,
    "editable": true
   },
   "outputs": [],
   "source": [
    "f['occurrenceid'].values"
   ]
  },
  {
   "cell_type": "code",
   "execution_count": null,
   "metadata": {
    "collapsed": false,
    "deletable": true,
    "editable": true
   },
   "outputs": [],
   "source": [
    "def extract_key_data(input_file, output_file):\n",
    "    \"\"\"Take a raw input file from GBIF database, and strip out non-essential info.\n",
    "    Save it as a csv file, with the name provided.\"\"\"\n",
    "    assert os.path.isfile(fname),\"{infile} was not found\".format(infile=input_file)\n",
    "    f = pd.read_csv(input_file, sep='\t')\n",
    "    df = pd.DataFrame()\n",
    "    df['occurrenceid'] = f['occurrenceid']\n",
    "    df['nameComplete'] = f['scientificname']\n",
    "    df['date'] = f['eventdate']\n",
    "    df['decimallatitude'] = f['decimallatitude']\n",
    "    df['decimallongitude'] = f['decimallongitude']\n",
    "    if os.path.isfile(output_file):\n",
    "        print(\"{outfile} exists. Overwriting file.\".format(outfile=output_file))\n",
    "    df.to_csv(output_file, index=False)\n",
    "    print(\"Program sucsess.\")\n",
    "    return"
   ]
  },
  {
   "cell_type": "code",
   "execution_count": null,
   "metadata": {
    "collapsed": true,
    "deletable": true,
    "editable": true
   },
   "outputs": [],
   "source": [
    "import seaborn as sns\n",
    "import matplotlib.pyplot as plt"
   ]
  },
  {
   "cell_type": "code",
   "execution_count": null,
   "metadata": {
    "collapsed": false,
    "deletable": true,
    "editable": true
   },
   "outputs": [],
   "source": [
    "df = pd.read_csv('GBIF_data/PierisNapi.csv')\n",
    "\n",
    "df['datetime'] = pd.to_datetime(df['date'])\n",
    "df['year'] = [tmp.year for tmp in df.datetime]"
   ]
  },
  {
   "cell_type": "code",
   "execution_count": null,
   "metadata": {
    "collapsed": false,
    "deletable": true,
    "editable": true
   },
   "outputs": [],
   "source": [
    "df.head()"
   ]
  },
  {
   "cell_type": "code",
   "execution_count": null,
   "metadata": {
    "collapsed": false,
    "deletable": true,
    "editable": true
   },
   "outputs": [],
   "source": [
    "# Stack to get multiple years\n",
    "\n",
    "tmp1 = df[df.year > 2000]\n",
    "subsample_early = tmp1[tmp1.year < 2005]\n",
    "\n",
    "tmp2 = df[df.year > 2010]\n",
    "subsample_late = tmp2[tmp2.year < 2015]\n",
    "\n",
    "print(\"Early subsample n = \", len(subsample_early))\n",
    "print(\"Late subsample n = \", len(subsample_late))"
   ]
  },
  {
   "cell_type": "code",
   "execution_count": null,
   "metadata": {
    "collapsed": false,
    "deletable": true,
    "editable": true
   },
   "outputs": [],
   "source": [
    "sns.set(style=\"darkgrid\")\n",
    "# iris = sns.load_dataset(\"iris\")\n",
    "\n",
    "# # Subset the iris dataset by species\n",
    "# setosa = iris.query(\"species == 'setosa'\")\n",
    "# virginica = iris.query(\"species == 'virginica'\")\n",
    "\n",
    "# Set up the figure\n",
    "f, ax = plt.subplots(figsize=(8, 8))\n",
    "ax.set_aspect(\"equal\")\n",
    "\n",
    "# Draw the two density plots\n",
    "ax = sns.kdeplot(subsample_early['decimallongitude'], subsample_early['decimallatitude'], \n",
    "                 cmap=\"Reds\", shade=True, shade_lowest=False)\n",
    "ax = sns.kdeplot(subsample_late['decimallongitude'], subsample_late['decimallatitude'], \n",
    "                 cmap=\"Blues\", shade=True, shade_lowest=False)\n",
    "\n",
    "# Add labels to the plot\n",
    "red = sns.color_palette(\"Reds\")[-2]\n",
    "blue = sns.color_palette(\"Blues\")[-2]\n",
    "plt.xlim(-11, 15)\n",
    "plt.ylim(45, 60)\n",
    "plt.show()"
   ]
  },
  {
   "cell_type": "code",
   "execution_count": null,
   "metadata": {
    "collapsed": false,
    "deletable": true,
    "editable": true
   },
   "outputs": [],
   "source": [
    "# Set up the figure\n",
    "f, ax = plt.subplots(figsize=(8, 8))\n",
    "ax.set_aspect(\"equal\")\n",
    "\n",
    "ypoints = subsample_late[subsample_late['decimallongitude'] > -25]['decimallatitude']\n",
    "xpoints = subsample_late[subsample_late['decimallongitude'] > -25]['decimallongitude']\n",
    "\n",
    "# Draw the two density plots\n",
    "plt.plot(xpoints, ypoints,'.r', alpha=0.1)\n",
    "ax = sns.kdeplot(xpoints, ypoints, shade=False, shade_lowest=False)\n",
    "\n",
    "plt.show()"
   ]
  },
  {
   "cell_type": "code",
   "execution_count": null,
   "metadata": {
    "collapsed": false,
    "deletable": true,
    "editable": true
   },
   "outputs": [],
   "source": [
    "# Access the paths as so...\n",
    "for path in ax.collections[-1].get_paths():\n",
    "    x, y = path.vertices.mean(axis=0)\n",
    "    print(x,y)\n",
    "    #ax.plot(x, y, \"ro\")"
   ]
  },
  {
   "cell_type": "code",
   "execution_count": null,
   "metadata": {
    "collapsed": false,
    "deletable": true,
    "editable": true
   },
   "outputs": [],
   "source": [
    "my_path_eg = ax.collections[0].get_paths()[0]"
   ]
  },
  {
   "cell_type": "code",
   "execution_count": null,
   "metadata": {
    "collapsed": false,
    "deletable": true,
    "editable": true
   },
   "outputs": [],
   "source": [
    "paths = []\n",
    "for path in ax.collections[1].get_paths():\n",
    "    paths.append(path)"
   ]
  },
  {
   "cell_type": "code",
   "execution_count": null,
   "metadata": {
    "collapsed": false,
    "deletable": true,
    "editable": true
   },
   "outputs": [],
   "source": [
    "poly = geometry.Polygon(path.vertices)\n",
    "poly"
   ]
  },
  {
   "cell_type": "code",
   "execution_count": null,
   "metadata": {
    "collapsed": false,
    "deletable": true,
    "editable": true
   },
   "outputs": [],
   "source": [
    "poly = [geometry.Polygon(p.vertices) for p in paths]\n",
    "poly"
   ]
  },
  {
   "cell_type": "code",
   "execution_count": null,
   "metadata": {
    "collapsed": false,
    "deletable": true,
    "editable": true
   },
   "outputs": [],
   "source": [
    "poly[1]"
   ]
  },
  {
   "cell_type": "code",
   "execution_count": null,
   "metadata": {
    "collapsed": true,
    "deletable": true,
    "editable": true
   },
   "outputs": [],
   "source": []
  },
  {
   "cell_type": "code",
   "execution_count": null,
   "metadata": {
    "collapsed": false,
    "deletable": true,
    "editable": true
   },
   "outputs": [],
   "source": [
    "pd.groupby(df, by=[df.year])"
   ]
  },
  {
   "cell_type": "code",
   "execution_count": null,
   "metadata": {
    "collapsed": false,
    "deletable": true,
    "editable": true
   },
   "outputs": [],
   "source": [
    "a = df['datetime'][0]"
   ]
  },
  {
   "cell_type": "code",
   "execution_count": null,
   "metadata": {
    "collapsed": false,
    "deletable": true,
    "editable": true
   },
   "outputs": [],
   "source": [
    "#df[df.year == 2000]"
   ]
  },
  {
   "cell_type": "code",
   "execution_count": null,
   "metadata": {
    "collapsed": false,
    "deletable": true,
    "editable": true
   },
   "outputs": [],
   "source": []
  },
  {
   "cell_type": "code",
   "execution_count": null,
   "metadata": {
    "collapsed": false,
    "deletable": true,
    "editable": true
   },
   "outputs": [],
   "source": []
  },
  {
   "cell_type": "code",
   "execution_count": null,
   "metadata": {
    "collapsed": false,
    "deletable": true,
    "editable": true
   },
   "outputs": [],
   "source": [
    "# Stack to get multiple years\n",
    "\n",
    "#tmp1 = df[df.year > 2008]\n",
    "#tmp1[tmp1.year < 2012]"
   ]
  },
  {
   "cell_type": "code",
   "execution_count": null,
   "metadata": {
    "collapsed": true,
    "deletable": true,
    "editable": true
   },
   "outputs": [],
   "source": [
    "pn_df = pd.read_csv('GBIF_data/PierisNapi.csv')\n",
    "pb_df = pd.read_csv('GBIF_data/Pieris_brassicae.csv')\n",
    "va_df = pd.read_csv('GBIF_data/VanessaAtalantaLinnaeus.csv')"
   ]
  },
  {
   "cell_type": "code",
   "execution_count": null,
   "metadata": {
    "collapsed": false,
    "deletable": true,
    "editable": true
   },
   "outputs": [],
   "source": [
    "pn_df.nameComplete[0]"
   ]
  },
  {
   "cell_type": "code",
   "execution_count": null,
   "metadata": {
    "collapsed": false,
    "deletable": true,
    "editable": true
   },
   "outputs": [],
   "source": [
    "pb_df.nameComplete[0]"
   ]
  },
  {
   "cell_type": "code",
   "execution_count": null,
   "metadata": {
    "collapsed": false,
    "deletable": true,
    "editable": true
   },
   "outputs": [],
   "source": [
    "plt.plot(va_df.decimallongitude, va_df.decimallatitude, 'r.', alpha=0.1)\n",
    "plt.xlim(-20, 50)\n",
    "plt.ylim(30,80)\n",
    "plt.show()"
   ]
  },
  {
   "cell_type": "code",
   "execution_count": null,
   "metadata": {
    "collapsed": false,
    "deletable": true,
    "editable": true
   },
   "outputs": [],
   "source": [
    "plt.plot(pb_df.decimallongitude, pb_df.decimallatitude, 'b.', alpha=0.1)\n",
    "plt.xlim(-20, 50)\n",
    "plt.ylim(30,80)\n",
    "plt.show()"
   ]
  },
  {
   "cell_type": "code",
   "execution_count": null,
   "metadata": {
    "collapsed": false,
    "deletable": true,
    "editable": true
   },
   "outputs": [],
   "source": [
    "plt.plot(pn_df.decimallongitude, pn_df.decimallatitude, 'g.', alpha=0.1)\n",
    "plt.xlim(-20, 50)\n",
    "plt.ylim(30,80)\n",
    "plt.show()"
   ]
  },
  {
   "cell_type": "code",
   "execution_count": null,
   "metadata": {
    "collapsed": false,
    "deletable": true,
    "editable": true
   },
   "outputs": [],
   "source": []
  },
  {
   "cell_type": "code",
   "execution_count": null,
   "metadata": {
    "collapsed": false,
    "deletable": true,
    "editable": true
   },
   "outputs": [],
   "source": [
    "def restrict_area_of_df(df, north=80, east=50, south=30, west=-20):\n",
    "    \"\"\"Restrict the points in a dataframe by position\"\"\"\n",
    "    tmp = df[df.decimallatitude > south]\n",
    "    tmp = tmp[tmp.decimallatitude < north]\n",
    "    tmp = tmp[tmp.decimallongitude > west]\n",
    "    tmp = tmp[tmp.decimallongitude < east]\n",
    "    return tmp"
   ]
  },
  {
   "cell_type": "code",
   "execution_count": null,
   "metadata": {
    "collapsed": true,
    "deletable": true,
    "editable": true
   },
   "outputs": [],
   "source": [
    "test = restrict_area_of_df(va_df)"
   ]
  },
  {
   "cell_type": "code",
   "execution_count": null,
   "metadata": {
    "collapsed": false,
    "deletable": true,
    "editable": true
   },
   "outputs": [],
   "source": [
    "plt.plot(test.decimallongitude, test.decimallatitude,'g.',alpha=0.1)\n",
    "plt.show()"
   ]
  },
  {
   "cell_type": "code",
   "execution_count": null,
   "metadata": {
    "collapsed": false,
    "deletable": true,
    "editable": true
   },
   "outputs": [],
   "source": [
    "test.head()"
   ]
  },
  {
   "cell_type": "code",
   "execution_count": null,
   "metadata": {
    "collapsed": false,
    "deletable": true,
    "editable": true
   },
   "outputs": [],
   "source": [
    "def process_table(df):\n",
    "    \"\"\"blah\"\"\"\n",
    "    df = df[df.date == df.date]      # exclude data with no valid time value:\n",
    "    df_eu = restrict_area_of_df(df)  # exclude data outside of the EU region\n",
    "    t = [pd.to_datetime(dt).date() for dt in df_eu.date]\n",
    "    yr = [y.year for y in t]\n",
    "    if name == 'Vanessa atalanta Linnaeus, 1758':\n",
    "        species = [1] * len(df_eu)\n",
    "    elif name == 'Pieris napi (Linnaeus, 1758)':\n",
    "        species = [2] * len(df_eu)\n",
    "    elif name == 'Pieris brassicae (Linnaeus, 1758)':\n",
    "        species = [3] * len(df_eu)\n",
    "    df_eu = df_eu.drop(['occurrenceid', 'date', 'nameComplete'], axis=1)\n",
    "    df_eu['date'] = t\n",
    "    df_eu['year'] = yr\n",
    "    df_eu['species'] = species\n",
    "    return df_eu"
   ]
  },
  {
   "cell_type": "code",
   "execution_count": null,
   "metadata": {
    "collapsed": false,
    "deletable": true,
    "editable": true
   },
   "outputs": [],
   "source": [
    "va_df.head()"
   ]
  },
  {
   "cell_type": "code",
   "execution_count": null,
   "metadata": {
    "collapsed": false,
    "deletable": true,
    "editable": true
   },
   "outputs": [],
   "source": []
  },
  {
   "cell_type": "code",
   "execution_count": null,
   "metadata": {
    "collapsed": false,
    "deletable": true,
    "editable": true
   },
   "outputs": [],
   "source": [
    "cleaned = process_table(va_df)"
   ]
  },
  {
   "cell_type": "code",
   "execution_count": null,
   "metadata": {
    "collapsed": false,
    "deletable": true,
    "editable": true
   },
   "outputs": [],
   "source": [
    "cleaned.head()"
   ]
  },
  {
   "cell_type": "code",
   "execution_count": null,
   "metadata": {
    "collapsed": false,
    "deletable": true,
    "editable": true
   },
   "outputs": [],
   "source": [
    "plt.plot(cleaned.decimallongitude, cleaned.decimallatitude,'r.', alpha=0.1)"
   ]
  },
  {
   "cell_type": "code",
   "execution_count": null,
   "metadata": {
    "collapsed": false,
    "deletable": true,
    "editable": true
   },
   "outputs": [],
   "source": []
  },
  {
   "cell_type": "code",
   "execution_count": null,
   "metadata": {
    "collapsed": false,
    "deletable": true,
    "editable": true
   },
   "outputs": [],
   "source": [
    "input_file = '../GBIF_data/0064934-160910150852091.csv'\n",
    "f2 = pd.read_csv(input_file, sep='\t', low_memory=False)"
   ]
  },
  {
   "cell_type": "code",
   "execution_count": null,
   "metadata": {
    "collapsed": false
   },
   "outputs": [],
   "source": [
    "f['scientificname'][0]"
   ]
  },
  {
   "cell_type": "code",
   "execution_count": null,
   "metadata": {
    "collapsed": false,
    "deletable": true,
    "editable": true
   },
   "outputs": [],
   "source": [
    "f['scientificname'][0]"
   ]
  },
  {
   "cell_type": "code",
   "execution_count": null,
   "metadata": {
    "collapsed": false
   },
   "outputs": [],
   "source": [
    "f.keys()"
   ]
  },
  {
   "cell_type": "code",
   "execution_count": null,
   "metadata": {
    "collapsed": false
   },
   "outputs": [],
   "source": [
    "if 'Vanessa atalanta Linnaeus, 1758' in name_to_number"
   ]
  },
  {
   "cell_type": "code",
   "execution_count": null,
   "metadata": {
    "collapsed": true
   },
   "outputs": [],
   "source": [
    "bigdata = pd.concat([f1, f2], ignore_index=True)"
   ]
  },
  {
   "cell_type": "code",
   "execution_count": null,
   "metadata": {
    "collapsed": false
   },
   "outputs": [],
   "source": [
    "bigdata"
   ]
  },
  {
   "cell_type": "code",
   "execution_count": null,
   "metadata": {
    "collapsed": false
   },
   "outputs": [],
   "source": []
  },
  {
   "cell_type": "code",
   "execution_count": null,
   "metadata": {
    "collapsed": true
   },
   "outputs": [],
   "source": [
    "from __future__ import print_function\n",
    "import pandas as pd\n",
    "import os\n",
    "import sys"
   ]
  },
  {
   "cell_type": "code",
   "execution_count": null,
   "metadata": {
    "collapsed": false
   },
   "outputs": [],
   "source": [
    "def restrict_area_of_df(df, north=80, east=50, south=30, west=-20):\n",
    "    \"\"\"Restrict the points in a dataframe by position\"\"\"\n",
    "    tmp = df[df.decimallatitude > south]\n",
    "    tmp = tmp[tmp.decimallatitude < north]\n",
    "    tmp = tmp[tmp.decimallongitude > west]\n",
    "    tmp = tmp[tmp.decimallongitude < east]\n",
    "    return tmp\n",
    "\n",
    "name_to_number = {'Vanessa atalanta Linnaeus, 1758':1,\n",
    "                 'Pieris napi (Linnaeus, 1758)':2,\n",
    "                 'Pieris brassicae (Linnaeus, 1758)':3,\n",
    "                 'Nymphalis xanthomelas Denis & Schiffermüller, 1775':4,\n",
    "                 'Vanessa cardui (Linnaeus, 1758) Linnaeus, 1758':5,\n",
    "                 'Araschnia levana Linnaeus, 1758':6,\n",
    "                 'Apatura ilia Denis & Schiffermüller, 1775': 7,\n",
    "                 'Apatura iris Linnaeus, 1758': 8}\n",
    "\n",
    "def process_table(df):\n",
    "    \"\"\"Convert a table to a stripped down version, centered over Europe.\"\"\"\n",
    "    df = df[df.date == df.date]      # exclude data with no valid time value:\n",
    "    df_eu = restrict_area_of_df(df)  # exclude data outside of the EU region\n",
    "    t = [pd.to_datetime(dt).date() for dt in df_eu.date]\n",
    "    yr = [y.year for y in t]\n",
    "    name = df_eu.nameComplete[0]\n",
    "    if name in name_to_number:\n",
    "        print(\"{0} is category {1}\".format(name, name_to_number[name]))\n",
    "        species = [name_to_number[name]] * len(df_eu)\n",
    "    else:\n",
    "        raise ValueError(\"Butterfly Name was not in dictionary of classifcation\")\n",
    "    df_eu = df_eu.drop(['occurrenceid', 'date', 'nameComplete'], axis=1)\n",
    "    df_eu['date'] = t\n",
    "    df_eu['year'] = yr\n",
    "    df_eu['species'] = species\n",
    "    return df_eu\n",
    "\n",
    "\n",
    "def extract_data(input_file_list):\n",
    "    \"\"\"Take a list of input files from GBIF database, and strip out non-essential info.\n",
    "    Compile dataframes into a single df, and return it.\"\"\"\n",
    "    cleaned = []\n",
    "    for input_file in input_file_list:\n",
    "        print(\"Processing {0}\".format(input_file))\n",
    "        if input_file is not \"output.csv\":\n",
    "            assert os.path.isfile(input_file), \"{infile} was not found\".format(infile=input_file)\n",
    "            f = pd.read_csv(input_file, sep='\t', low_memory=False)\n",
    "            df = pd.DataFrame()\n",
    "            df['occurrenceid'] = f['occurrenceid']\n",
    "            df['nameComplete'] = f['scientificname']\n",
    "            df['date'] = f['eventdate']\n",
    "            df['decimallatitude'] = f['decimallatitude']\n",
    "            df['decimallongitude'] = f['decimallongitude']\n",
    "            cleaned.append(process_table(df))\n",
    "    big_df = pd.concat(cleaned, ignore_index=True)\n",
    "    return big_df"
   ]
  },
  {
   "cell_type": "code",
   "execution_count": null,
   "metadata": {
    "collapsed": false
   },
   "outputs": [],
   "source": [
    "input_files = ['../GBIF_data/0064934-160910150852091.csv','../GBIF_data/0064937-160910150852091.csv']\n",
    "print(len(sys.argv[1:]),\" input files: \", sys.argv[1:])\n",
    "big_df = extract_data(input_files)"
   ]
  },
  {
   "cell_type": "code",
   "execution_count": null,
   "metadata": {
    "collapsed": false
   },
   "outputs": [],
   "source": [
    "big_df"
   ]
  },
  {
   "cell_type": "code",
   "execution_count": null,
   "metadata": {
    "collapsed": true
   },
   "outputs": [],
   "source": []
  }
 ],
 "metadata": {
  "anaconda-cloud": {},
  "kernelspec": {
   "display_name": "Python 3",
   "language": "python",
   "name": "python3"
  },
  "language_info": {
   "codemirror_mode": {
    "name": "ipython",
    "version": 3
   },
   "file_extension": ".py",
   "mimetype": "text/x-python",
   "name": "python",
   "nbconvert_exporter": "python",
   "pygments_lexer": "ipython3",
   "version": "3.5.3"
  }
 },
 "nbformat": 4,
 "nbformat_minor": 2
}
